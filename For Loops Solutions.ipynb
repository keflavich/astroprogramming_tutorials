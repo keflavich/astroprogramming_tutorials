{
 "metadata": {
  "name": "For Loops Solutions"
 },
 "nbformat": 3,
 "nbformat_minor": 0,
 "worksheets": [
  {
   "cells": [
    {
     "cell_type": "markdown",
     "metadata": {},
     "source": [
      "For loops threw people for a loop [awful pun intended], so we shall revisit them."
     ]
    },
    {
     "cell_type": "code",
     "collapsed": false,
     "input": [
      "# start my making an array\n",
      "x = arange(7)"
     ],
     "language": "python",
     "metadata": {},
     "outputs": [],
     "prompt_number": 3
    },
    {
     "cell_type": "code",
     "collapsed": false,
     "input": [
      "# simple for loop: print each element in x\n",
      "for y in x:\n",
      "    print y"
     ],
     "language": "python",
     "metadata": {},
     "outputs": [
      {
       "output_type": "stream",
       "stream": "stdout",
       "text": [
        "0\n",
        "1\n",
        "2\n",
        "3\n",
        "4\n",
        "5\n",
        "6\n"
       ]
      }
     ],
     "prompt_number": 2
    },
    {
     "cell_type": "markdown",
     "metadata": {},
     "source": [
      "What's `y` now?  Fill in your answer in the cell below:"
     ]
    },
    {
     "cell_type": "raw",
     "metadata": {},
     "source": [
      "6"
     ]
    },
    {
     "cell_type": "code",
     "collapsed": false,
     "input": [
      "# what if we use a list instead?\n",
      "L = ['a',1,sin]\n",
      "for y in L:\n",
      "    print y"
     ],
     "language": "python",
     "metadata": {},
     "outputs": [
      {
       "output_type": "stream",
       "stream": "stdout",
       "text": [
        "a\n",
        "1\n",
        "<ufunc 'sin'>\n"
       ]
      }
     ],
     "prompt_number": 4
    },
    {
     "cell_type": "markdown",
     "metadata": {},
     "source": [
      "Variables can be anything.  Lists can contain anything.  Including functions!"
     ]
    },
    {
     "cell_type": "code",
     "collapsed": false,
     "input": [
      "# let's do that again, with a list of functions to run on a value\n",
      "L = [sin,cos,tan,cosh,arccosh]\n",
      "for y in L:\n",
      "    print y(pi)"
     ],
     "language": "python",
     "metadata": {},
     "outputs": [
      {
       "output_type": "stream",
       "stream": "stdout",
       "text": [
        "1.22464679915e-16\n",
        "-1.0\n",
        "-1.22464679915e-16\n",
        "11.5919532755\n",
        "1.81152627246\n"
       ]
      }
     ],
     "prompt_number": 6
    },
    {
     "cell_type": "code",
     "collapsed": false,
     "input": [
      "# What if you care about the order?\n",
      "# Example: You have a flux array and a position array, and your flux will depend on the position\n",
      "fluxes = np.zeros(10) \n",
      "positions = np.random.rand(10)\n",
      "# We use \"enumerate\" to get the index of the value...\n",
      "for ii,pos in enumerate(positions):\n",
      "    print ii,pos\n",
      "    fluxes[ii] = pos**2"
     ],
     "language": "python",
     "metadata": {},
     "outputs": [
      {
       "output_type": "stream",
       "stream": "stdout",
       "text": [
        "0 0.296505578618\n",
        "1 0.251530903722\n",
        "2 0.197350482194\n",
        "3 0.816259902372\n",
        "4 0.226300925207\n",
        "5 0.751125301803\n",
        "6 0.000466584092735\n",
        "7 0.268470388959\n",
        "8 0.181068442517\n",
        "9 0.0804878722213\n"
       ]
      }
     ],
     "prompt_number": 8
    },
    {
     "cell_type": "markdown",
     "metadata": {},
     "source": [
      "EXERCISE:  \n",
      "---------\n",
      "Write a loop that prints a number to its own power (e.g., $2^2$, $3^3$, etc.) up to 15."
     ]
    },
    {
     "cell_type": "code",
     "collapsed": false,
     "input": [
      "for ii in xrange(1,16):\n",
      "    print ii**ii"
     ],
     "language": "python",
     "metadata": {},
     "outputs": [
      {
       "output_type": "stream",
       "stream": "stdout",
       "text": [
        "1\n",
        "4\n",
        "27\n",
        "256\n",
        "3125\n",
        "46656\n",
        "823543\n",
        "16777216\n",
        "387420489\n",
        "10000000000\n",
        "285311670611\n",
        "8916100448256\n",
        "302875106592253\n",
        "11112006825558016\n",
        "437893890380859375\n"
       ]
      }
     ],
     "prompt_number": 2
    },
    {
     "cell_type": "markdown",
     "metadata": {},
     "source": [
      "Next, I'm going to show you the coolest trick in python, but also confusing, but so cool.  Really.\n",
      "\n",
      "\"Inline For Loops\" are also called \"List Comprehensions\".  They let you run a loop on a list directly.  I'll show you by first showing the \"naive but slow\" method."
     ]
    },
    {
     "cell_type": "code",
     "collapsed": false,
     "input": [
      "# The ugly way\n",
      "square_numbers = []\n",
      "for ii in range(1,15):\n",
      "    square_numbers.append(ii**2)\n",
      "print square_numbers"
     ],
     "language": "python",
     "metadata": {},
     "outputs": [
      {
       "output_type": "stream",
       "stream": "stdout",
       "text": [
        "[1, 4, 9, 16, 25, 36, 49, 64, 81, 100, 121, 144, 169, 196]\n"
       ]
      }
     ],
     "prompt_number": 12
    },
    {
     "cell_type": "code",
     "collapsed": false,
     "input": [
      "# List Comprehension:\n",
      "square_numbers = [ii**2 for ii in range(1,15)]\n",
      "print square_numbers"
     ],
     "language": "python",
     "metadata": {},
     "outputs": [
      {
       "output_type": "stream",
       "stream": "stdout",
       "text": [
        "[1, 4, 9, 16, 25, 36, 49, 64, 81, 100, 121, 144, 169, 196]\n"
       ]
      }
     ],
     "prompt_number": 13
    },
    {
     "cell_type": "markdown",
     "metadata": {},
     "source": [
      "OK, that was a pretty simple example.  What if we only wanted the odd numbers?"
     ]
    },
    {
     "cell_type": "code",
     "collapsed": false,
     "input": [
      "# The ugly way\n",
      "odd_square_numbers = []\n",
      "for ii in range(1,15):\n",
      "    # odd numbers have a \"modulus\" of 1.  % is the mod operator\n",
      "    if ii % 2 == 1:\n",
      "        odd_square_numbers.append(ii**2)\n",
      "print odd_square_numbers"
     ],
     "language": "python",
     "metadata": {},
     "outputs": [
      {
       "output_type": "stream",
       "stream": "stdout",
       "text": [
        "[1, 9, 25, 49, 81, 121, 169]\n"
       ]
      }
     ],
     "prompt_number": 14
    },
    {
     "cell_type": "code",
     "collapsed": false,
     "input": [
      "# The List Comprehension way:\n",
      "odd_square_numbers = [ii**2 for ii in range(1,15) if ii%2==1]\n",
      "print odd_square_numbers"
     ],
     "language": "python",
     "metadata": {},
     "outputs": [
      {
       "output_type": "stream",
       "stream": "stdout",
       "text": [
        "[1, 9, 25, 49, 81, 121, 169]\n"
       ]
      }
     ],
     "prompt_number": 16
    },
    {
     "cell_type": "markdown",
     "metadata": {},
     "source": [
      "Let's say we have a list of letters, and we want to find out how many times each occurs.  This will be somewhat complicated, but shouldn't be too hard to follow."
     ]
    },
    {
     "cell_type": "code",
     "collapsed": false,
     "input": [
      "letters = ['A','A','A','B','B','C','C','D','E','F']"
     ],
     "language": "python",
     "metadata": {},
     "outputs": [],
     "prompt_number": 17
    },
    {
     "cell_type": "code",
     "collapsed": false,
     "input": [
      "# We'll use a blank dictionary to count how many of each letter there are\n",
      "D = {}\n",
      "for L in letters:\n",
      "    # check if the letter is already in the dictionary\n",
      "    if L in D: \n",
      "        D[L] += 1\n",
      "    else:\n",
      "        D[L] = 1\n",
      "print D"
     ],
     "language": "python",
     "metadata": {},
     "outputs": [
      {
       "output_type": "stream",
       "stream": "stdout",
       "text": [
        "{'A': 3, 'C': 2, 'B': 2, 'E': 1, 'D': 1, 'F': 1}\n"
       ]
      }
     ],
     "prompt_number": 18
    },
    {
     "cell_type": "code",
     "collapsed": false,
     "input": [
      "# There are trickier ways to do this!\n",
      "# First, you can find the unique elements of a list by using a set\n",
      "print letters\n",
      "print set(letters) # sets are un-ordered"
     ],
     "language": "python",
     "metadata": {},
     "outputs": [
      {
       "output_type": "stream",
       "stream": "stdout",
       "text": [
        "['A', 'A', 'A', 'B', 'B', 'C', 'C', 'D', 'E', 'F']\n",
        "set(['A', 'C', 'B', 'E', 'D', 'F'])\n"
       ]
      }
     ],
     "prompt_number": 19
    },
    {
     "cell_type": "code",
     "collapsed": false,
     "input": [
      "# You can make a dictionary from a list of lists or list of tuples....\n",
      "# These are all the same!\n",
      "print dict([('one',1),('two',2)])\n",
      "print dict([['one',1],['two',2]])\n",
      "print dict((('one',1),('two',2)))\n",
      "print dict((['one',1],['two',2]))\n",
      "print {'one':1,'two':2}"
     ],
     "language": "python",
     "metadata": {},
     "outputs": [
      {
       "output_type": "stream",
       "stream": "stdout",
       "text": [
        "{'two': 2, 'one': 1}\n",
        "{'two': 2, 'one': 1}\n",
        "{'two': 2, 'one': 1}\n",
        "{'two': 2, 'one': 1}\n",
        "{'two': 2, 'one': 1}\n"
       ]
      }
     ],
     "prompt_number": 21
    },
    {
     "cell_type": "code",
     "collapsed": false,
     "input": [
      "# so we can use a list comprehension to make a dictionary!\n",
      "list_of_tuples = [(L,0) for L in set(letters)]\n",
      "D = dict(list_of_tuples)\n",
      "print list_of_tuples\n",
      "print D"
     ],
     "language": "python",
     "metadata": {},
     "outputs": [
      {
       "output_type": "stream",
       "stream": "stdout",
       "text": [
        "[('A', 0), ('C', 0), ('B', 0), ('E', 0), ('D', 0), ('F', 0)]\n",
        "{'A': 0, 'C': 0, 'B': 0, 'E': 0, 'D': 0, 'F': 0}\n"
       ]
      }
     ],
     "prompt_number": 23
    },
    {
     "cell_type": "code",
     "collapsed": false,
     "input": [
      "# but we actually wanted the *count* of each...\n",
      "list_of_tuples = [(L,letters.count(L)) for L in set(letters)]\n",
      "D = dict(list_of_tuples)\n",
      "print list_of_tuples\n",
      "print D"
     ],
     "language": "python",
     "metadata": {},
     "outputs": [
      {
       "output_type": "stream",
       "stream": "stdout",
       "text": [
        "[('A', 3), ('C', 2), ('B', 2), ('E', 1), ('D', 1), ('F', 1)]\n",
        "{'A': 3, 'C': 2, 'B': 2, 'E': 1, 'D': 1, 'F': 1}\n"
       ]
      }
     ],
     "prompt_number": 24
    },
    {
     "cell_type": "code",
     "collapsed": false,
     "input": [
      "# let's make it a one-liner\n",
      "D = dict( [(L,letters.count(L)) for L in set(letters)] )\n",
      "print D"
     ],
     "language": "python",
     "metadata": {},
     "outputs": [
      {
       "output_type": "stream",
       "stream": "stdout",
       "text": [
        "{'A': 3, 'C': 2, 'B': 2, 'E': 1, 'D': 1, 'F': 1}\n"
       ]
      }
     ],
     "prompt_number": 26
    },
    {
     "cell_type": "markdown",
     "metadata": {},
     "source": [
      "EXERCISE:  \n",
      "---------\n",
      "Write a for loop that prints the numbers 1-20.  If the number is divisible by 2, print \"even\" as well.  If the number is divisible by 3, print the word \"three\".  If the number is divisible by *both* 2 and 3, then print \"lemon\" (but don't print \"even\" or \"three\")."
     ]
    },
    {
     "cell_type": "code",
     "collapsed": false,
     "input": [
      "for ii in xrange(1,21):\n",
      "    print ii,\n",
      "# this is OK    if ii % 2 == 0 and ii % 3 == 0: \n",
      "    if ii % 6 == 0:\n",
      "        print \"lemon\"\n",
      "    elif ii % 2 == 0:\n",
      "        print \"even\"\n",
      "    elif ii % 3 ==0:\n",
      "        print \"three\""
     ],
     "language": "python",
     "metadata": {},
     "outputs": [
      {
       "output_type": "stream",
       "stream": "stdout",
       "text": [
        "1 2 even\n",
        "3 three\n",
        "4 even\n",
        "5 6 lemon\n",
        "7 8 even\n",
        "9 three\n",
        "10 even\n",
        "11 12 lemon\n",
        "13 14 even\n",
        "15 three\n",
        "16 even\n",
        "17 18 lemon\n",
        "19 20 even\n"
       ]
      }
     ],
     "prompt_number": 3
    },
    {
     "cell_type": "markdown",
     "metadata": {},
     "source": [
      "EXERCISE:\n",
      "---------\n",
      "Write a list comprehension that contains the numbers divisible by three between 0 and 16"
     ]
    },
    {
     "cell_type": "code",
     "collapsed": false,
     "input": [
      "[ii for ii in xrange(0,17) if ii % 3 == 0]"
     ],
     "language": "python",
     "metadata": {},
     "outputs": [
      {
       "output_type": "pyout",
       "prompt_number": 66,
       "text": [
        "[0, 3, 6, 9, 12, 15]"
       ]
      }
     ],
     "prompt_number": 66
    },
    {
     "cell_type": "markdown",
     "metadata": {},
     "source": [
      "EXERCISE:\n",
      "---------\n",
      "Write a list comprehension that contains the numbers divisible by four between 0 and 16"
     ]
    },
    {
     "cell_type": "code",
     "collapsed": false,
     "input": [
      "[ii for ii in xrange(0,17) if ii % 4 == 0]"
     ],
     "language": "python",
     "metadata": {},
     "outputs": [
      {
       "output_type": "pyout",
       "prompt_number": 67,
       "text": [
        "[0, 4, 8, 12, 16]"
       ]
      }
     ],
     "prompt_number": 67
    },
    {
     "cell_type": "markdown",
     "metadata": {},
     "source": [
      "EXERCISE:\n",
      "---------\n",
      "Write a list comprehension that contains a number squared if the number is odd, or the square root of the number if it is even, for numbers between 0 and 16.  \n",
      "(hint: use a ternary operator)"
     ]
    },
    {
     "cell_type": "code",
     "collapsed": false,
     "input": [
      "[ii**2 if ii%2==1 else ii**0.5 for ii in xrange(0,17)]"
     ],
     "language": "python",
     "metadata": {},
     "outputs": [
      {
       "output_type": "pyout",
       "prompt_number": 68,
       "text": [
        "[0.0,\n",
        " 1,\n",
        " 1.4142135623730951,\n",
        " 9,\n",
        " 2.0,\n",
        " 25,\n",
        " 2.449489742783178,\n",
        " 49,\n",
        " 2.8284271247461903,\n",
        " 81,\n",
        " 3.1622776601683795,\n",
        " 121,\n",
        " 3.4641016151377544,\n",
        " 169,\n",
        " 3.7416573867739413,\n",
        " 225,\n",
        " 4.0]"
       ]
      }
     ],
     "prompt_number": 68
    },
    {
     "cell_type": "markdown",
     "metadata": {},
     "source": [
      "Back To Arrays\n",
      "--------------\n",
      "For loops are cool, but there are plenty of things they're bad at.\n",
      "\n",
      "For many things we want to do in astronomy, it's better to use array-based techniques.\n",
      "\n",
      "One extremely common operation is \"Dimensionality Reduction\".   That basically means, turn something with N dimensions into something with N-1 dimensions.  For example, you might take a 2-dimensional image into a 1-dimensional spectrum.  Or take a 3-dimensional cube and make it into a 2D image."
     ]
    },
    {
     "cell_type": "markdown",
     "metadata": {},
     "source": [
      "For loops are cool, but there are plenty of things they're bad at.\n",
      "\n",
      "For many things we want to do in astronomy, it's better to use array-based techniques.\n",
      "\n",
      "One extremely common operation is \"Dimensionality Reduction\".   That basically means, turn something with N dimensions into something with N-1 dimensions.  For example, you might take a 2-dimensional image into a 1-dimensional spectrum.  Or take a 3-dimensional cube and make it into a 2D image."
     ]
    },
    {
     "cell_type": "code",
     "collapsed": false,
     "input": [
      "# we'll start with a small random image\n",
      "ri = np.random.rand(5,5)\n",
      "imshow(ri)\n",
      "colorbar()"
     ],
     "language": "python",
     "metadata": {},
     "outputs": [
      {
       "output_type": "pyout",
       "prompt_number": 35,
       "text": [
        "<matplotlib.colorbar.Colorbar instance at 0x1060aa488>"
       ]
      },
      {
       "output_type": "display_data",
       "png": "[encoded data removed]",
       "text": [
        "<matplotlib.figure.Figure at 0x105d469d0>"
       ]
      }
     ],
     "prompt_number": 35
    },
    {
     "cell_type": "code",
     "collapsed": false,
     "input": [
      "# Maximum and minimum along each axis:\n",
      "print ri.min(axis=0) # the min is usually pretty close to zero\n",
      "print ri.min(axis=1)\n",
      "print ri.max(axis=0) # the max is usually pretty close to 1\n",
      "print ri.max(axis=1)"
     ],
     "language": "python",
     "metadata": {},
     "outputs": [
      {
       "output_type": "stream",
       "stream": "stdout",
       "text": [
        "[ 0.10454691  0.24828411  0.37659347  0.10730422  0.00126245]\n",
        "[ 0.10454691  0.44024005  0.00126245  0.16629751  0.10730422]\n",
        "[ 0.93152856  0.95812001  0.84630738  0.98316283  0.66762001]\n",
        "[ 0.84630738  0.95812001  0.98316283  0.7047635   0.93152856]\n"
       ]
      }
     ],
     "prompt_number": 36
    },
    {
     "cell_type": "code",
     "collapsed": false,
     "input": [
      "# can get standard deviations and averages too\n",
      "print ri.mean(axis=0)\n",
      "print ri.std(axis=0)\n",
      "print ri.sum(axis=0)"
     ],
     "language": "python",
     "metadata": {},
     "outputs": [
      {
       "output_type": "stream",
       "stream": "stdout",
       "text": [
        "[ 0.60700579  0.58963281  0.56597059  0.62886776  0.35642921]\n",
        "[ 0.302036    0.29722697  0.16584415  0.31239678  0.2457716 ]\n",
        "[ 3.03502893  2.94816405  2.82985295  3.14433878  1.78214604]\n"
       ]
      }
     ],
     "prompt_number": 38
    },
    {
     "cell_type": "code",
     "collapsed": false,
     "input": [
      "# what happens if you loop over a 2-dimensional array?  Is that allowed?  Yes!\n",
      "Z = np.zeros([2,4])\n",
      "for z in Z:\n",
      "    print len(z)"
     ],
     "language": "python",
     "metadata": {},
     "outputs": [
      {
       "output_type": "stream",
       "stream": "stdout",
       "text": [
        "4\n",
        "4\n"
       ]
      }
     ],
     "prompt_number": 55
    },
    {
     "cell_type": "markdown",
     "metadata": {},
     "source": [
      "FUN AND GAMES\n",
      "=============\n",
      "Let's make a Connect 4 game board.  The \"standard\" connect 4 is 7x6."
     ]
    },
    {
     "cell_type": "code",
     "collapsed": false,
     "input": [
      "gameboard = np.zeros([6,7])"
     ],
     "language": "python",
     "metadata": {},
     "outputs": [],
     "prompt_number": 49
    },
    {
     "cell_type": "code",
     "collapsed": false,
     "input": [
      "imshow(gameboard)"
     ],
     "language": "python",
     "metadata": {},
     "outputs": [
      {
       "output_type": "pyout",
       "prompt_number": 50,
       "text": [
        "<matplotlib.image.AxesImage at 0x106906250>"
       ]
      },
      {
       "output_type": "display_data",
       "png": "[encoded data removed]",
       "text": [
        "<matplotlib.figure.Figure at 0x105d48350>"
       ]
      }
     ],
     "prompt_number": 50
    },
    {
     "cell_type": "markdown",
     "metadata": {},
     "source": [
      "Let's pretend a game has been played.  We'll set some pieces on the board."
     ]
    },
    {
     "cell_type": "code",
     "collapsed": false,
     "input": [
      "def make_random_board():\n",
      "    \"\"\"\n",
      "    Create a random game of Connect 4.  All pieces must go to the bottom, \n",
      "    but it's technically possible that there were two winners, so this may\n",
      "    not make a \"real\" game of connect 4\n",
      "    \"\"\"\n",
      "    for ii in xrange(7):\n",
      "        for jj in xrange(6):\n",
      "            if jj>0 and gameboard[jj-1,ii] == 0:\n",
      "                gameboard[jj,ii] = 0\n",
      "                continue\n",
      "            r = rand()\n",
      "            if r < 0.33:\n",
      "                gameboard[jj,ii] = -1\n",
      "            elif r < 0.66:\n",
      "                gameboard[jj,ii] = 1\n",
      "            else:\n",
      "                gameboard[jj,ii] = 0"
     ],
     "language": "python",
     "metadata": {},
     "outputs": [],
     "prompt_number": 53
    },
    {
     "cell_type": "code",
     "collapsed": false,
     "input": [
      "imshow(gameboard); colorbar();"
     ],
     "language": "python",
     "metadata": {},
     "outputs": [
      {
       "output_type": "display_data",
       "png": "[encoded data removed]",
       "text": [
        "<matplotlib.figure.Figure at 0x105d42590>"
       ]
      }
     ],
     "prompt_number": 54
    },
    {
     "cell_type": "code",
     "collapsed": false,
     "input": [
      "# Is there a winner?\n",
      "# I'll only test the horizontal case\n",
      "color_dict = {-1:'blue',0:None,1:'red'}\n",
      "def is_winner_row(game):\n",
      "    for row in game:\n",
      "        streak = 0\n",
      "        prev_color = None\n",
      "        for col in row:\n",
      "            color = color_dict[col]\n",
      "            if color == prev_color:\n",
      "                streak = streak+1\n",
      "                if streak==4:\n",
      "                    return color\n",
      "            else:\n",
      "                streak = 0 if color is None else 1\n",
      "                prev_color = color"
     ],
     "language": "python",
     "metadata": {},
     "outputs": [],
     "prompt_number": 59
    },
    {
     "cell_type": "code",
     "collapsed": false,
     "input": [
      "print is_winner(gameboard)"
     ],
     "language": "python",
     "metadata": {},
     "outputs": [
      {
       "output_type": "stream",
       "stream": "stdout",
       "text": [
        "None\n"
       ]
      }
     ],
     "prompt_number": 61
    },
    {
     "cell_type": "markdown",
     "metadata": {},
     "source": [
      "EXERCISE:\n",
      "=========\n",
      "Determine whether there is a winner along columns.  Merge the two so that you know if there's a winner along rows OR columns.  We'll leave the diagonals for homework.\n",
      "\n"
     ]
    },
    {
     "cell_type": "code",
     "collapsed": false,
     "input": [
      "# Solution: copy my code above, and simple add a .T or .transpose() to the game board\n",
      "def is_winner_column(game):\n",
      "    for row in game.T:\n",
      "        streak = 0\n",
      "        prev_color = None\n",
      "        for col in row:\n",
      "            color = color_dict[col]\n",
      "            if color == prev_color:\n",
      "                streak = streak+1\n",
      "                if streak==4:\n",
      "                    return color\n",
      "            else:\n",
      "                streak = 0 if color is None else 1\n",
      "                prev_color = color"
     ],
     "language": "python",
     "metadata": {},
     "outputs": [],
     "prompt_number": 4
    },
    {
     "cell_type": "code",
     "collapsed": false,
     "input": [
      "def is_winner(game):\n",
      "    colwin = is_winner_column(game)\n",
      "    rowwin = is_winner_row(game)\n",
      "    return colwin if colwin else rowwin"
     ],
     "language": "python",
     "metadata": {},
     "outputs": [],
     "prompt_number": 5
    },
    {
     "cell_type": "code",
     "collapsed": false,
     "input": [
      "redwin_col = np.zeros([6,7])\n",
      "redwin_col[0,1::2] = -1\n",
      "redwin_col[0,0] = -1\n",
      "redwin_col[1:5,3] = 1\n",
      "imshow(redwin_col); title(\"Would not have taken much for blue...\")"
     ],
     "language": "python",
     "metadata": {},
     "outputs": [
      {
       "output_type": "pyout",
       "prompt_number": 106,
       "text": [
        "<matplotlib.text.Text at 0x1084af210>"
       ]
      },
      {
       "output_type": "display_data",
       "png": "[encoded data removed]",
       "text": [
        "<matplotlib.figure.Figure at 0x1082c5950>"
       ]
      }
     ],
     "prompt_number": 106
    },
    {
     "cell_type": "code",
     "collapsed": false,
     "input": [
      "# test code\n",
      "bluewin_row = np.zeros([6,7])\n",
      "bluewin_row[0,::2] = -1\n",
      "bluewin_row[0,1::2] = 1\n",
      "bluewin_row[1,:] = 1\n",
      "bluewin_row[2,:3] = 1\n",
      "bluewin_row[1,2:6] = -1\n",
      "imshow(bluewin_row); title(\"Whatever red was trying, they missed the mark.\")"
     ],
     "language": "python",
     "metadata": {},
     "outputs": [
      {
       "output_type": "pyout",
       "prompt_number": 102,
       "text": [
        "<matplotlib.text.Text at 0x1080a79d0>"
       ]
      },
      {
       "output_type": "display_data",
       "png": "[encoded data removed]",
       "text": [
        "<matplotlib.figure.Figure at 0x107e9a910>"
       ]
      }
     ],
     "prompt_number": 102
    },
    {
     "cell_type": "code",
     "collapsed": false,
     "input": [
      "# Diagonal Test Code (red wins)\n",
      "diagwin = np.zeros([6,7])\n",
      "# Makes use of some craaaaaazy numpy array tricks\n",
      "# Google these!\n",
      "diagwin[:4,:4] = -1*np.triu(np.ones([4,4]))\n",
      "np.fill_diagonal(diagwin[:4,:4],1)\n",
      "diagwin[:2,4] = 1\n",
      "imshow(diagwin); title(\"Blue wasn't really a smart player...\")"
     ],
     "language": "python",
     "metadata": {},
     "outputs": [
      {
       "output_type": "pyout",
       "prompt_number": 99,
       "text": [
        "<matplotlib.text.Text at 0x107aa4550>"
       ]
      },
      {
       "output_type": "display_data",
       "png": "[encoded data removed]",
       "text": [
        "<matplotlib.figure.Figure at 0x1077d9410>"
       ]
      }
     ],
     "prompt_number": 99
    },
    {
     "cell_type": "code",
     "collapsed": false,
     "input": [
      "diagreverse = diagwin[:,::-1]\n",
      "imshow(diagreverse)"
     ],
     "language": "python",
     "metadata": {},
     "outputs": [
      {
       "output_type": "pyout",
       "prompt_number": 165,
       "text": [
        "<matplotlib.image.AxesImage at 0x108d3dfd0>"
       ]
      },
      {
       "output_type": "display_data",
       "png": "[encoded data removed]",
       "text": [
        "<matplotlib.figure.Figure at 0x108a13750>"
       ]
      }
     ],
     "prompt_number": 165
    },
    {
     "cell_type": "code",
     "collapsed": false,
     "input": [
      "# catsgame\n",
      "catsgame = np.ones([6,7])\n",
      "for ii,row in enumerate(catsgame):\n",
      "    row[ii%2*2::4] = -1\n",
      "    row[ii%2*2+1::4] = -1\n",
      "imshow(catsgame); title(\"That looks frustrating...\")"
     ],
     "language": "python",
     "metadata": {},
     "outputs": [
      {
       "output_type": "pyout",
       "prompt_number": 158,
       "text": [
        "<matplotlib.text.Text at 0x1086d7890>"
       ]
      },
      {
       "output_type": "display_data",
       "png": "[encoded data removed]",
       "text": [
        "<matplotlib.figure.Figure at 0x108684210>"
       ]
      }
     ],
     "prompt_number": 158
    },
    {
     "cell_type": "code",
     "collapsed": false,
     "input": [
      "print \"Blue: \",is_winner_row(bluewin_row)\n",
      "print \"None: \",is_winner_column(bluewin_row)\n",
      "print \"None: \",is_winner_row(redwin_col)\n",
      "print \"Red: \",is_winner_column(redwin_col)\n",
      "print \"Blue:\",is_winner(bluewin_row)\n",
      "print \"Red:\",is_winner(redwin_col)\n",
      "print \"None: \",is_winner(catsgame)\n",
      "print \"None: \",is_winner(diagwin)"
     ],
     "language": "python",
     "metadata": {},
     "outputs": [
      {
       "output_type": "stream",
       "stream": "stdout",
       "text": [
        "Blue:  blue\n",
        "None:  None\n",
        "None:  None\n",
        "Red:  red\n",
        "Blue: blue\n",
        "Red: red\n",
        "None:  None\n",
        "None:  None\n"
       ]
      }
     ],
     "prompt_number": 159
    },
    {
     "cell_type": "markdown",
     "metadata": {},
     "source": [
      "HOMEWORK:\n",
      "=========\n",
      "*DUE THURSDAY*  \n",
      "\n",
      "Sketch out the flow of a Connect 4 game.  Describe each step, i.e. what happens each time a player plays a piece.  Your sketch should resemble the flow-chart example for image photometry shown in class.  However, it should be a little more complicated - you need to check to make sure a move is valid (or, you need to make sure that each move drops to the bottom of the \"board\")"
     ]
    },
    {
     "cell_type": "markdown",
     "metadata": {},
     "source": [
      "HOMEWORK:\n",
      "=========\n",
      "*DUE TUESDAY* December 4th\n",
      "\n",
      "Write a recursive \"game-decider\" code.  It should look at the lower-left pixel, then check each direction, starting with diagonal-left, for \"streaks\" of the right color.\n",
      "\n",
      "*This is a hard problem*\n",
      "\n",
      "Break it down!  Start simple!  Write the above `is_winner_row` and `is_winner_column` as recursive programs.  *Turn these in too!*  You will get partial credit if you can get this part done.  The diagonal part is, of course, harder!\n",
      "\n",
      "Debugging recursive code can be challenging too.  Give yourself simple test problems.  Don't start off trying to solve the full 7x6 array: start with a small 2x2 and see if you can find length-2 streaks.  \n",
      "\n",
      "It will probably be helpful to look at games and try to track what's happening in your code (but again, use *simple* games)\n",
      "\n",
      "However, this code is necessary for the connect 4 game, and a very similar code is necessary for image photometry!  "
     ]
    },
    {
     "cell_type": "code",
     "collapsed": false,
     "input": [
      "def recursive_is_winner_row(game, rownum=0, colnum=0, lastcolor=None, streak=0):\n",
      "    if streak==4:\n",
      "        return lastcolor\n",
      "    if colnum == game.shape[0]-1:\n",
      "        return None # no winner - at last pixel\n",
      "    if rownum == game.shape[1]:\n",
      "        return recursive_is_winner_row(game, 0, colnum+1, None, 0)\n",
      "    color = color_dict[game[colnum,rownum]]\n",
      "    if color is None:\n",
      "        return recursive_is_winner_row(game, rownum+1, colnum, color, 0)\n",
      "    elif color == lastcolor:\n",
      "        return recursive_is_winner_row(game, rownum+1, colnum, color, streak+1)\n",
      "    else: \n",
      "        return recursive_is_winner_row(game, rownum+1, colnum, color, 1)\n"
     ],
     "language": "python",
     "metadata": {},
     "outputs": [],
     "prompt_number": 107
    },
    {
     "cell_type": "code",
     "collapsed": false,
     "input": [
      "print recursive_is_winner_row(redwin_col),recursive_is_winner_row(bluewin_row)"
     ],
     "language": "python",
     "metadata": {},
     "outputs": [
      {
       "output_type": "stream",
       "stream": "stdout",
       "text": [
        "None blue\n"
       ]
      }
     ],
     "prompt_number": 108
    },
    {
     "cell_type": "code",
     "collapsed": false,
     "input": [
      "def recursive_is_winner(game, x=0, y=0, lastcolor=None, streak=0, direction=[]):\n",
      "    if x<0 or y<0:\n",
      "        return None\n",
      "    if streak==4:\n",
      "        return lastcolor\n",
      "    if x == game.shape[1]: # at last column\n",
      "        return None # no winner - at last pixel\n",
      "    if y == game.shape[0]: # at last row\n",
      "        return None\n",
      "    color = color_dict[game[y,x]]\n",
      "\n",
      "    # valid directions are up-left, up, up-right, right\n",
      "    # (left and down are already checked)\n",
      "    directions = ([-1,1],[0,1],[1,1],[1,0])\n",
      "    \n",
      "    if color is None:\n",
      "        streak = 0\n",
      "        # Because this is connect 4, you never have to move up if color is None!\n",
      "        directions = ([1,0],)\n",
      "    elif color == lastcolor:\n",
      "        streak = streak+1\n",
      "    else: \n",
      "        streak = 1\n",
      "        \n",
      "    #if streak > 0 and direction==[-1,1]:\n",
      "    #    print x,y,color,streak \n",
      "    \n",
      "    \n",
      "    for dir in directions:\n",
      "        streak_continued = streak*(direction==dir) if streak>1 else streak\n",
      "        winner = recursive_is_winner(game, x+dir[0], y+dir[1], color, \n",
      "            streak_continued, direction=dir)\n",
      "        if winner is not None:\n",
      "            return winner"
     ],
     "language": "python",
     "metadata": {},
     "outputs": [],
     "prompt_number": 182
    },
    {
     "cell_type": "code",
     "collapsed": false,
     "input": [
      "print \"Blue: \",recursive_is_winner(bluewin_row)\n",
      "print \"Red: \",recursive_is_winner(redwin_col)\n",
      "print \"Red: \",recursive_is_winner(diagwin)\n",
      "print \"Red: \",recursive_is_winner(diagreverse)\n",
      "print \"None: \",recursive_is_winner(catsgame)"
     ],
     "language": "python",
     "metadata": {},
     "outputs": [
      {
       "output_type": "stream",
       "stream": "stdout",
       "text": [
        "Blue:  blue\n",
        "Red:  red\n",
        "Red:  red\n",
        "Red:  red\n",
        "None:  "
       ]
      },
      {
       "output_type": "stream",
       "stream": "stdout",
       "text": [
        "None\n"
       ]
      }
     ],
     "prompt_number": 183
    },
    {
     "cell_type": "code",
     "collapsed": false,
     "input": [
      "recursive_is_winner(diagreverse)"
     ],
     "language": "python",
     "metadata": {},
     "outputs": [
      {
       "output_type": "pyout",
       "prompt_number": 184,
       "text": [
        "'red'"
       ]
      }
     ],
     "prompt_number": 184
    },
    {
     "cell_type": "code",
     "collapsed": false,
     "input": [
      "imshow(diagreverse)"
     ],
     "language": "python",
     "metadata": {},
     "outputs": [
      {
       "output_type": "pyout",
       "prompt_number": 177,
       "text": [
        "<matplotlib.image.AxesImage at 0x1099fb810>"
       ]
      },
      {
       "output_type": "display_data",
       "png": "[encoded data removed]",
       "text": [
        "<matplotlib.figure.Figure at 0x108fdc550>"
       ]
      }
     ],
     "prompt_number": 177
    },
    {
     "cell_type": "code",
     "collapsed": false,
     "input": [
      "blah = []"
     ],
     "language": "python",
     "metadata": {},
     "outputs": [],
     "prompt_number": 150
    },
    {
     "cell_type": "code",
     "collapsed": false,
     "input": [
      "blah is []"
     ],
     "language": "python",
     "metadata": {},
     "outputs": [
      {
       "output_type": "pyout",
       "prompt_number": 151,
       "text": [
        "False"
       ]
      }
     ],
     "prompt_number": 151
    },
    {
     "cell_type": "code",
     "collapsed": false,
     "input": [],
     "language": "python",
     "metadata": {},
     "outputs": []
    }
   ],
   "metadata": {}
  }
 ]
}