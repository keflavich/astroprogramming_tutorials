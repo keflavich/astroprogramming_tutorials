{
 "metadata": {
  "name": "Exercise Functionalize Solutions"
 },
 "nbformat": 3,
 "nbformat_minor": 0,
 "worksheets": [
  {
   "cells": [
    {
     "cell_type": "code",
     "collapsed": false,
     "input": [
      "# Code to make a random image\n",
      "def make_image(randseed=42, sz=128):\n",
      "    \"\"\"\n",
      "    Make an image based on some random seed\n",
      "\n",
      "    Parameters\n",
      "    ----------\n",
      "    randseed : int\n",
      "        Random seed to pass to numpy's random\n",
      "    sz : int\n",
      "        Size of the image (will be square with sides of this size)\n",
      "    \"\"\"\n",
      "    np.random.seed(randseed)\n",
      "    x,y = np.meshgrid(linspace(-3,3,10),linspace(-3,3,10))\n",
      "    star = 1/sqrt(2*pi) * exp(-(x**2+y**2)/2.)\n",
      "    starimg = np.zeros([sz,sz])\n",
      "    # add 100 \"stars\" to the image\n",
      "    for ii in xrange(100): \n",
      "        # pick the center of the image as the center of the cluster\n",
      "        # also pick the dispersion to be 1/2 the image size\n",
      "        x = floor(randn()*sz/2+sz/2)\n",
      "        y = floor(randn()*sz/2+sz/2)\n",
      "        if x < sz-5 and y < sz-5 and x>5 and y>5:\n",
      "            peak = rand()\n",
      "            starimg[y-5:y+5,x-5:x+5] += star*peak\n",
      "    return starimg\n"
     ],
     "language": "python",
     "metadata": {
      "slideshow": {
       "slide_start": false
      }
     },
     "outputs": [],
     "prompt_number": 8
    },
    {
     "cell_type": "code",
     "collapsed": false,
     "input": [
      "# this is how you call make_image with the default parameters set\n",
      "img = make_image()"
     ],
     "language": "python",
     "metadata": {
      "slideshow": {
       "slide_start": false
      }
     },
     "outputs": [],
     "prompt_number": 9
    },
    {
     "cell_type": "code",
     "collapsed": false,
     "input": [
      "brightest_pixel = img.argmax()\n",
      "print brightest_pixel"
     ],
     "language": "python",
     "metadata": {
      "slideshow": {
       "slide_start": false
      }
     },
     "outputs": [
      {
       "output_type": "stream",
       "stream": "stdout",
       "text": [
        "5516\n"
       ]
      }
     ],
     "prompt_number": 13
    },
    {
     "cell_type": "code",
     "collapsed": false,
     "input": [
      "ymax,xmax = np.unravel_index(brightest_pixel,img.shape)\n",
      "print xmax,ymax"
     ],
     "language": "python",
     "metadata": {
      "slideshow": {
       "slide_start": false
      }
     },
     "outputs": [
      {
       "output_type": "stream",
       "stream": "stdout",
       "text": [
        "12 43\n"
       ]
      }
     ],
     "prompt_number": 20
    },
    {
     "cell_type": "code",
     "collapsed": false,
     "input": [
      "imshow(img)\n",
      "plot(xmax,ymax,'wx',markeredgewidth=2)"
     ],
     "language": "python",
     "metadata": {
      "slideshow": {
       "slide_start": false
      }
     },
     "outputs": [
      {
       "output_type": "pyout",
       "prompt_number": 22,
       "text": [
        "[<matplotlib.lines.Line2D at 0x10677ff50>]"
       ]
      },
      {
       "output_type": "display_data",
       "png": "[encoded data removed]",
       "text": [
        "<matplotlib.figure.Figure at 0x10677f6d0>"
       ]
      }
     ],
     "prompt_number": 22
    },
    {
     "cell_type": "code",
     "collapsed": false,
     "input": [
      "# chop out a chunk\n",
      "chunk = img[ymax-5:ymax+5,xmax-5:xmax+5]\n",
      "imshow(chunk)"
     ],
     "language": "python",
     "metadata": {
      "slideshow": {
       "slide_start": false
      }
     },
     "outputs": [
      {
       "output_type": "pyout",
       "prompt_number": 23,
       "text": [
        "<matplotlib.image.AxesImage at 0x106d81890>"
       ]
      },
      {
       "output_type": "display_data",
       "png": "[encoded data removed]",
       "text": [
        "<matplotlib.figure.Figure at 0x106b39190>"
       ]
      }
     ],
     "prompt_number": 23
    },
    {
     "cell_type": "markdown",
     "metadata": {},
     "source": [
      "EXERCISE:\n",
      "=========\n",
      "1. Write a function to return the x and y locations of the brightest pixel in the image\n",
      "\n",
      "2. Write a function to return a \"chunk\" of the image centered on the brightest pixel.  This function should allow you to specify how big that chunk is on a side, but it should default to 10 pixels."
     ]
    },
    {
     "cell_type": "markdown",
     "metadata": {},
     "source": [
      "SOLUTIONS:\n",
      "============"
     ]
    },
    {
     "cell_type": "code",
     "collapsed": false,
     "input": [
      "def get_brightest_star(img):\n",
      "    brightest_pixel = img.argmax()\n",
      "    ymax,xmax = np.unravel_index(brightest_pixel,img.shape)\n",
      "    return xmax,ymax"
     ],
     "language": "python",
     "metadata": {
      "slideshow": {
       "slide_start": false
      }
     },
     "outputs": [],
     "prompt_number": 24
    },
    {
     "cell_type": "code",
     "collapsed": false,
     "input": [
      "# Define a function to return a chunk around the brightest pixel\n",
      "def get_brightest_chunk(img,sz=10):\n",
      "    bx,by = get_brightest_star(img)\n",
      "    chunk = img[by-sz/2:by+sz/2, bx-sz/2:bx+sz/2]\n",
      "    return chunk"
     ],
     "language": "python",
     "metadata": {},
     "outputs": [],
     "prompt_number": 1
    },
    {
     "cell_type": "code",
     "collapsed": false,
     "input": [
      "for rs in arange(100):\n",
      "    img = make_image(rs)\n",
      "    print get_brightest_star(img)"
     ],
     "language": "python",
     "metadata": {
      "slideshow": {
       "slide_start": false
      }
     },
     "outputs": [
      {
       "output_type": "stream",
       "stream": "stdout",
       "text": [
        "(75, 33)\n",
        "(51, 7)\n",
        "(71, 112)\n",
        "(31, 16)\n",
        "(118, 52)\n",
        "(54, 56)\n",
        "(81, 67)\n",
        "(33, 86)\n",
        "(110, 65)\n",
        "(76, 98)\n",
        "(18, 46)\n",
        "(104, 68)\n",
        "(57, 95)\n",
        "(74, 24)\n",
        "(100, 60)"
       ]
      },
      {
       "output_type": "stream",
       "stream": "stdout",
       "text": [
        "\n",
        "(79, 116)\n",
        "(101, 88)\n",
        "(56, 40)\n",
        "(42, 87)\n",
        "(43, 112)\n",
        "(98, 54)\n",
        "(87, 98)\n",
        "(45, 70)\n",
        "(44, 100)\n",
        "(97, 26)\n",
        "(69, 99)\n",
        "(75, 60)\n",
        "(53, 19)\n",
        "(25, 93)\n",
        "(66, 15)\n",
        "(58, 26)\n",
        "(79, 41)\n",
        "(102, 68)\n",
        "(73, 84)\n",
        "(55, 107)"
       ]
      },
      {
       "output_type": "stream",
       "stream": "stdout",
       "text": [
        "\n",
        "(55, 100)\n",
        "(32, 36)\n",
        "(49, 106)\n",
        "(25, 44)\n",
        "(87, 89)\n",
        "(98, 58)\n",
        "(23, 28)\n",
        "(12, 43)\n",
        "(72, 60)\n",
        "(90, 76)\n",
        "(45, 58)\n",
        "(44, 84)\n",
        "(16, 51)\n",
        "(69, 109)\n",
        "(91, 22)\n",
        "(100, 67)\n",
        "(56, 49)"
       ]
      },
      {
       "output_type": "stream",
       "stream": "stdout",
       "text": [
        "\n",
        "(78, 57)\n",
        "(120, 96)\n",
        "(50, 97)\n",
        "(38, 60)\n",
        "(59, 38)\n",
        "(98, 75)\n",
        "(23, 87)\n",
        "(75, 100)\n",
        "(36, 97)\n",
        "(24, 12)\n",
        "(31, 14)\n",
        "(82, 30)\n",
        "(100, 92)\n",
        "(42, 23)\n",
        "(98, 86)\n",
        "(113, 113)\n",
        "(34, 47)\n",
        "(21, 37)\n",
        "(46, 33)\n",
        "(107, 121)"
       ]
      },
      {
       "output_type": "stream",
       "stream": "stdout",
       "text": [
        "\n",
        "(34, 40)\n",
        "(105, 80)\n",
        "(46, 69)\n",
        "(37, 95)\n",
        "(42, 35)\n",
        "(90, 117)\n",
        "(120, 40)\n",
        "(85, 90)\n",
        "(112, 28)\n",
        "(65, 62)\n",
        "(121, 39)\n",
        "(46, 43)\n",
        "(33, 39)\n",
        "(56, 72)\n",
        "(41, 109)\n",
        "(61, 83)\n",
        "(76, 110)\n",
        "(50, 104)\n",
        "(49, 49)"
       ]
      },
      {
       "output_type": "stream",
       "stream": "stdout",
       "text": [
        "\n",
        "(111, 34)\n",
        "(61, 11)\n",
        "(34, 102)\n",
        "(81, 32)\n",
        "(30, 72)\n",
        "(17, 25)\n",
        "(54, 8)\n",
        "(49, 95)\n",
        "(109, 111)\n"
       ]
      }
     ],
     "prompt_number": 25
    },
    {
     "cell_type": "code",
     "collapsed": false,
     "input": [
      "pwd"
     ],
     "language": "python",
     "metadata": {
      "slideshow": {
       "slide_start": false
      }
     },
     "outputs": [
      {
       "output_type": "pyout",
       "prompt_number": 26,
       "text": [
        "u'/Users/adam/Dropbox/astr2600/astr2600/Tutorial21'"
       ]
      }
     ],
     "prompt_number": 26
    },
    {
     "cell_type": "code",
     "collapsed": false,
     "input": [],
     "language": "python",
     "metadata": {
      "slideshow": {
       "slide_start": false
      }
     },
     "outputs": []
    }
   ],
   "metadata": {}
  }
 ]
}